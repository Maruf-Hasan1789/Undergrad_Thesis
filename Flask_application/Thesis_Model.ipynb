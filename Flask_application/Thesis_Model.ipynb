{
  "nbformat": 4,
  "nbformat_minor": 0,
  "metadata": {
    "colab": {
      "provenance": []
    },
    "kernelspec": {
      "name": "python3",
      "display_name": "Python 3"
    },
    "language_info": {
      "name": "python"
    },
    "gpuClass": "standard"
  },
  "cells": [
    {
      "cell_type": "code",
      "execution_count": null,
      "metadata": {
        "colab": {
          "base_uri": "https://localhost:8080/",
          "height": 328
        },
        "id": "khaeHzpmeumj",
        "outputId": "05c3da10-b23e-457a-a1d2-abec4bbb7412"
      },
      "outputs": [
        {
          "output_type": "error",
          "ename": "MessageError",
          "evalue": "ignored",
          "traceback": [
            "\u001b[0;31m---------------------------------------------------------------------------\u001b[0m",
            "\u001b[0;31mMessageError\u001b[0m                              Traceback (most recent call last)",
            "\u001b[0;32m<ipython-input-1-d5df0069828e>\u001b[0m in \u001b[0;36m<module>\u001b[0;34m\u001b[0m\n\u001b[1;32m      1\u001b[0m \u001b[0;32mfrom\u001b[0m \u001b[0mgoogle\u001b[0m\u001b[0;34m.\u001b[0m\u001b[0mcolab\u001b[0m \u001b[0;32mimport\u001b[0m \u001b[0mdrive\u001b[0m\u001b[0;34m\u001b[0m\u001b[0;34m\u001b[0m\u001b[0m\n\u001b[0;32m----> 2\u001b[0;31m \u001b[0mdrive\u001b[0m\u001b[0;34m.\u001b[0m\u001b[0mmount\u001b[0m\u001b[0;34m(\u001b[0m\u001b[0;34m'/content/drive'\u001b[0m\u001b[0;34m)\u001b[0m\u001b[0;34m\u001b[0m\u001b[0;34m\u001b[0m\u001b[0m\n\u001b[0m",
            "\u001b[0;32m/usr/local/lib/python3.7/dist-packages/google/colab/drive.py\u001b[0m in \u001b[0;36mmount\u001b[0;34m(mountpoint, force_remount, timeout_ms, readonly)\u001b[0m\n\u001b[1;32m    104\u001b[0m       \u001b[0mtimeout_ms\u001b[0m\u001b[0;34m=\u001b[0m\u001b[0mtimeout_ms\u001b[0m\u001b[0;34m,\u001b[0m\u001b[0;34m\u001b[0m\u001b[0;34m\u001b[0m\u001b[0m\n\u001b[1;32m    105\u001b[0m       \u001b[0mephemeral\u001b[0m\u001b[0;34m=\u001b[0m\u001b[0;32mTrue\u001b[0m\u001b[0;34m,\u001b[0m\u001b[0;34m\u001b[0m\u001b[0;34m\u001b[0m\u001b[0m\n\u001b[0;32m--> 106\u001b[0;31m       readonly=readonly)\n\u001b[0m\u001b[1;32m    107\u001b[0m \u001b[0;34m\u001b[0m\u001b[0m\n\u001b[1;32m    108\u001b[0m \u001b[0;34m\u001b[0m\u001b[0m\n",
            "\u001b[0;32m/usr/local/lib/python3.7/dist-packages/google/colab/drive.py\u001b[0m in \u001b[0;36m_mount\u001b[0;34m(mountpoint, force_remount, timeout_ms, ephemeral, readonly)\u001b[0m\n\u001b[1;32m    123\u001b[0m   \u001b[0;32mif\u001b[0m \u001b[0mephemeral\u001b[0m\u001b[0;34m:\u001b[0m\u001b[0;34m\u001b[0m\u001b[0;34m\u001b[0m\u001b[0m\n\u001b[1;32m    124\u001b[0m     _message.blocking_request(\n\u001b[0;32m--> 125\u001b[0;31m         'request_auth', request={'authType': 'dfs_ephemeral'}, timeout_sec=None)\n\u001b[0m\u001b[1;32m    126\u001b[0m \u001b[0;34m\u001b[0m\u001b[0m\n\u001b[1;32m    127\u001b[0m   \u001b[0mmountpoint\u001b[0m \u001b[0;34m=\u001b[0m \u001b[0m_os\u001b[0m\u001b[0;34m.\u001b[0m\u001b[0mpath\u001b[0m\u001b[0;34m.\u001b[0m\u001b[0mexpanduser\u001b[0m\u001b[0;34m(\u001b[0m\u001b[0mmountpoint\u001b[0m\u001b[0;34m)\u001b[0m\u001b[0;34m\u001b[0m\u001b[0;34m\u001b[0m\u001b[0m\n",
            "\u001b[0;32m/usr/local/lib/python3.7/dist-packages/google/colab/_message.py\u001b[0m in \u001b[0;36mblocking_request\u001b[0;34m(request_type, request, timeout_sec, parent)\u001b[0m\n\u001b[1;32m    169\u001b[0m   request_id = send_request(\n\u001b[1;32m    170\u001b[0m       request_type, request, parent=parent, expect_reply=True)\n\u001b[0;32m--> 171\u001b[0;31m   \u001b[0;32mreturn\u001b[0m \u001b[0mread_reply_from_input\u001b[0m\u001b[0;34m(\u001b[0m\u001b[0mrequest_id\u001b[0m\u001b[0;34m,\u001b[0m \u001b[0mtimeout_sec\u001b[0m\u001b[0;34m)\u001b[0m\u001b[0;34m\u001b[0m\u001b[0;34m\u001b[0m\u001b[0m\n\u001b[0m",
            "\u001b[0;32m/usr/local/lib/python3.7/dist-packages/google/colab/_message.py\u001b[0m in \u001b[0;36mread_reply_from_input\u001b[0;34m(message_id, timeout_sec)\u001b[0m\n\u001b[1;32m    100\u001b[0m         reply.get('colab_msg_id') == message_id):\n\u001b[1;32m    101\u001b[0m       \u001b[0;32mif\u001b[0m \u001b[0;34m'error'\u001b[0m \u001b[0;32min\u001b[0m \u001b[0mreply\u001b[0m\u001b[0;34m:\u001b[0m\u001b[0;34m\u001b[0m\u001b[0;34m\u001b[0m\u001b[0m\n\u001b[0;32m--> 102\u001b[0;31m         \u001b[0;32mraise\u001b[0m \u001b[0mMessageError\u001b[0m\u001b[0;34m(\u001b[0m\u001b[0mreply\u001b[0m\u001b[0;34m[\u001b[0m\u001b[0;34m'error'\u001b[0m\u001b[0;34m]\u001b[0m\u001b[0;34m)\u001b[0m\u001b[0;34m\u001b[0m\u001b[0;34m\u001b[0m\u001b[0m\n\u001b[0m\u001b[1;32m    103\u001b[0m       \u001b[0;32mreturn\u001b[0m \u001b[0mreply\u001b[0m\u001b[0;34m.\u001b[0m\u001b[0mget\u001b[0m\u001b[0;34m(\u001b[0m\u001b[0;34m'data'\u001b[0m\u001b[0;34m,\u001b[0m \u001b[0;32mNone\u001b[0m\u001b[0;34m)\u001b[0m\u001b[0;34m\u001b[0m\u001b[0;34m\u001b[0m\u001b[0m\n\u001b[1;32m    104\u001b[0m \u001b[0;34m\u001b[0m\u001b[0m\n",
            "\u001b[0;31mMessageError\u001b[0m: Error: credential propagation was unsuccessful"
          ]
        }
      ],
      "source": [
        "from google.colab import drive\n",
        "drive.mount('/content/drive')"
      ]
    },
    {
      "cell_type": "code",
      "source": [],
      "metadata": {
        "id": "XQNk8lQAKKK3"
      },
      "execution_count": null,
      "outputs": []
    },
    {
      "cell_type": "code",
      "source": [
        "!ln -s /content/drive/My\\ Drive/ /mydrive\n",
        "#!ls /mydrive"
      ],
      "metadata": {
        "id": "UTTeBA21e353"
      },
      "execution_count": null,
      "outputs": []
    },
    {
      "cell_type": "code",
      "source": [
        "import tensorflow as tf\n",
        "import pandas as pd\n",
        "import matplotlib.pyplot as plt\n",
        "import os\n",
        "import cv2\n",
        "import numpy as np\n",
        "import keras\n",
        "\n",
        "from keras.applications.inception_v3 import InceptionV3\n",
        "from tensorflow.keras.preprocessing.image import ImageDataGenerator\n",
        "from tensorflow.keras.preprocessing import image\n",
        "from tensorflow.keras.models import Sequential\n",
        "from tensorflow.keras.layers import Conv2D, MaxPooling2D\n",
        "from tensorflow.keras.layers import Dropout\n",
        "from tensorflow.keras.layers import Dense, Flatten\n",
        "from tensorflow.keras.optimizers import RMSprop\n",
        "from tensorflow.keras.optimizers import Adam\n"
      ],
      "metadata": {
        "id": "T1MQ1_QBe39W"
      },
      "execution_count": null,
      "outputs": []
    },
    {
      "cell_type": "code",
      "source": [
        "train_datagen = ImageDataGenerator(rescale=1./255,  featurewise_center=True,\n",
        "    featurewise_std_normalization=True,\n",
        "    rotation_range=20,\n",
        "    width_shift_range=0.2,\n",
        "    height_shift_range=0.2,\n",
        "    horizontal_flip=True)\n",
        "\n",
        "train_generator = train_datagen.flow_from_directory(\n",
        "        r'/mydrive/chest_xray/train',\n",
        "        target_size=(100,100),\n",
        "        color_mode='rgb',\n",
        "        batch_size=32,\n",
        "        class_mode='categorical',\n",
        "        )\n",
        "valid_datagen = ImageDataGenerator(rescale=1./255,  featurewise_center=True,\n",
        "    featurewise_std_normalization=True,\n",
        "    rotation_range=20,\n",
        "    width_shift_range=0.2,\n",
        "    height_shift_range=0.2,\n",
        "    horizontal_flip=True)\n",
        "valid_generator = valid_datagen.flow_from_directory(\n",
        "        r'/content/drive/MyDrive/chest_xray/val',\n",
        "        target_size=(100,100),\n",
        "        color_mode='rgb',\n",
        "        batch_size=32,\n",
        "        class_mode='categorical',\n",
        "        )\n",
        "\n",
        "\n",
        "train_generator.class_indices\n",
        "train_generator.classes\n",
        "train_generator.class_indices.keys()"
      ],
      "metadata": {
        "colab": {
          "base_uri": "https://localhost:8080/"
        },
        "id": "pp7af_77e4Af",
        "outputId": "72e1dfd2-4fca-4a80-efd9-48aa7e3e2d17"
      },
      "execution_count": null,
      "outputs": [
        {
          "output_type": "stream",
          "name": "stdout",
          "text": [
            "Found 4337 images belonging to 2 classes.\n",
            "Found 904 images belonging to 2 classes.\n"
          ]
        },
        {
          "output_type": "execute_result",
          "data": {
            "text/plain": [
              "dict_keys(['NORMAL', 'PNEUMONIA'])"
            ]
          },
          "metadata": {},
          "execution_count": 7
        }
      ]
    },
    {
      "cell_type": "code",
      "source": [
        "from keras.layers import concatenate\n",
        "from tensorflow import keras  "
      ],
      "metadata": {
        "id": "6Ar5NhIze4Dd"
      },
      "execution_count": null,
      "outputs": []
    },
    {
      "cell_type": "code",
      "source": [
        "from keras.layers import LSTM\n",
        "from keras.layers import Dense, Dropout, Activation"
      ],
      "metadata": {
        "id": "YJ0BJqsHGx2T"
      },
      "execution_count": null,
      "outputs": []
    },
    {
      "cell_type": "code",
      "source": [
        "\n",
        "\n",
        "base_model = tf.keras.applications.Xception(include_top = False, # Leave out the last fully connected layer\n",
        "weights = 'imagenet',\n",
        "input_shape = (100, 100, 3), # Shape of our images\n",
        "pooling='max')\n",
        "\n",
        "\n",
        "\n",
        "for layer in base_model.layers:\n",
        "    layer.trainable = False\n",
        "\n",
        "\n",
        "# Flatten the output layer to 1 dimension\n",
        "x = Flatten()(base_model.output)\n",
        "\n",
        "# Add a fully connected layer with 512 hidden units and ReLU activation\n",
        "x = Dense(512, activation='relu')(x)\n",
        "\n",
        "# Add a dropout rate of 0.5\n",
        "#x = layers.Dropout(0.5)(x)\n",
        "\n",
        "# Add a final softmax layer for classification\n",
        "x = Dense(5, activation='softmax')(x)\n",
        "\n",
        "model = tf.keras.models.Model(base_model.input, x)\n",
        "model.summary()"
      ],
      "metadata": {
        "colab": {
          "base_uri": "https://localhost:8080/"
        },
        "id": "2_LfHnWIfE00",
        "outputId": "90eee66f-07ee-481a-ec1c-d2a0d8a3f70d"
      },
      "execution_count": null,
      "outputs": [
        {
          "output_type": "stream",
          "name": "stdout",
          "text": [
            "Downloading data from https://storage.googleapis.com/tensorflow/keras-applications/xception/xception_weights_tf_dim_ordering_tf_kernels_notop.h5\n",
            "83689472/83683744 [==============================] - 0s 0us/step\n",
            "83697664/83683744 [==============================] - 0s 0us/step\n",
            "Model: \"model\"\n",
            "__________________________________________________________________________________________________\n",
            " Layer (type)                   Output Shape         Param #     Connected to                     \n",
            "==================================================================================================\n",
            " input_1 (InputLayer)           [(None, 100, 100, 3  0           []                               \n",
            "                                )]                                                                \n",
            "                                                                                                  \n",
            " block1_conv1 (Conv2D)          (None, 49, 49, 32)   864         ['input_1[0][0]']                \n",
            "                                                                                                  \n",
            " block1_conv1_bn (BatchNormaliz  (None, 49, 49, 32)  128         ['block1_conv1[0][0]']           \n",
            " ation)                                                                                           \n",
            "                                                                                                  \n",
            " block1_conv1_act (Activation)  (None, 49, 49, 32)   0           ['block1_conv1_bn[0][0]']        \n",
            "                                                                                                  \n",
            " block1_conv2 (Conv2D)          (None, 47, 47, 64)   18432       ['block1_conv1_act[0][0]']       \n",
            "                                                                                                  \n",
            " block1_conv2_bn (BatchNormaliz  (None, 47, 47, 64)  256         ['block1_conv2[0][0]']           \n",
            " ation)                                                                                           \n",
            "                                                                                                  \n",
            " block1_conv2_act (Activation)  (None, 47, 47, 64)   0           ['block1_conv2_bn[0][0]']        \n",
            "                                                                                                  \n",
            " block2_sepconv1 (SeparableConv  (None, 47, 47, 128)  8768       ['block1_conv2_act[0][0]']       \n",
            " 2D)                                                                                              \n",
            "                                                                                                  \n",
            " block2_sepconv1_bn (BatchNorma  (None, 47, 47, 128)  512        ['block2_sepconv1[0][0]']        \n",
            " lization)                                                                                        \n",
            "                                                                                                  \n",
            " block2_sepconv2_act (Activatio  (None, 47, 47, 128)  0          ['block2_sepconv1_bn[0][0]']     \n",
            " n)                                                                                               \n",
            "                                                                                                  \n",
            " block2_sepconv2 (SeparableConv  (None, 47, 47, 128)  17536      ['block2_sepconv2_act[0][0]']    \n",
            " 2D)                                                                                              \n",
            "                                                                                                  \n",
            " block2_sepconv2_bn (BatchNorma  (None, 47, 47, 128)  512        ['block2_sepconv2[0][0]']        \n",
            " lization)                                                                                        \n",
            "                                                                                                  \n",
            " conv2d (Conv2D)                (None, 24, 24, 128)  8192        ['block1_conv2_act[0][0]']       \n",
            "                                                                                                  \n",
            " block2_pool (MaxPooling2D)     (None, 24, 24, 128)  0           ['block2_sepconv2_bn[0][0]']     \n",
            "                                                                                                  \n",
            " batch_normalization (BatchNorm  (None, 24, 24, 128)  512        ['conv2d[0][0]']                 \n",
            " alization)                                                                                       \n",
            "                                                                                                  \n",
            " add (Add)                      (None, 24, 24, 128)  0           ['block2_pool[0][0]',            \n",
            "                                                                  'batch_normalization[0][0]']    \n",
            "                                                                                                  \n",
            " block3_sepconv1_act (Activatio  (None, 24, 24, 128)  0          ['add[0][0]']                    \n",
            " n)                                                                                               \n",
            "                                                                                                  \n",
            " block3_sepconv1 (SeparableConv  (None, 24, 24, 256)  33920      ['block3_sepconv1_act[0][0]']    \n",
            " 2D)                                                                                              \n",
            "                                                                                                  \n",
            " block3_sepconv1_bn (BatchNorma  (None, 24, 24, 256)  1024       ['block3_sepconv1[0][0]']        \n",
            " lization)                                                                                        \n",
            "                                                                                                  \n",
            " block3_sepconv2_act (Activatio  (None, 24, 24, 256)  0          ['block3_sepconv1_bn[0][0]']     \n",
            " n)                                                                                               \n",
            "                                                                                                  \n",
            " block3_sepconv2 (SeparableConv  (None, 24, 24, 256)  67840      ['block3_sepconv2_act[0][0]']    \n",
            " 2D)                                                                                              \n",
            "                                                                                                  \n",
            " block3_sepconv2_bn (BatchNorma  (None, 24, 24, 256)  1024       ['block3_sepconv2[0][0]']        \n",
            " lization)                                                                                        \n",
            "                                                                                                  \n",
            " conv2d_1 (Conv2D)              (None, 12, 12, 256)  32768       ['add[0][0]']                    \n",
            "                                                                                                  \n",
            " block3_pool (MaxPooling2D)     (None, 12, 12, 256)  0           ['block3_sepconv2_bn[0][0]']     \n",
            "                                                                                                  \n",
            " batch_normalization_1 (BatchNo  (None, 12, 12, 256)  1024       ['conv2d_1[0][0]']               \n",
            " rmalization)                                                                                     \n",
            "                                                                                                  \n",
            " add_1 (Add)                    (None, 12, 12, 256)  0           ['block3_pool[0][0]',            \n",
            "                                                                  'batch_normalization_1[0][0]']  \n",
            "                                                                                                  \n",
            " block4_sepconv1_act (Activatio  (None, 12, 12, 256)  0          ['add_1[0][0]']                  \n",
            " n)                                                                                               \n",
            "                                                                                                  \n",
            " block4_sepconv1 (SeparableConv  (None, 12, 12, 728)  188672     ['block4_sepconv1_act[0][0]']    \n",
            " 2D)                                                                                              \n",
            "                                                                                                  \n",
            " block4_sepconv1_bn (BatchNorma  (None, 12, 12, 728)  2912       ['block4_sepconv1[0][0]']        \n",
            " lization)                                                                                        \n",
            "                                                                                                  \n",
            " block4_sepconv2_act (Activatio  (None, 12, 12, 728)  0          ['block4_sepconv1_bn[0][0]']     \n",
            " n)                                                                                               \n",
            "                                                                                                  \n",
            " block4_sepconv2 (SeparableConv  (None, 12, 12, 728)  536536     ['block4_sepconv2_act[0][0]']    \n",
            " 2D)                                                                                              \n",
            "                                                                                                  \n",
            " block4_sepconv2_bn (BatchNorma  (None, 12, 12, 728)  2912       ['block4_sepconv2[0][0]']        \n",
            " lization)                                                                                        \n",
            "                                                                                                  \n",
            " conv2d_2 (Conv2D)              (None, 6, 6, 728)    186368      ['add_1[0][0]']                  \n",
            "                                                                                                  \n",
            " block4_pool (MaxPooling2D)     (None, 6, 6, 728)    0           ['block4_sepconv2_bn[0][0]']     \n",
            "                                                                                                  \n",
            " batch_normalization_2 (BatchNo  (None, 6, 6, 728)   2912        ['conv2d_2[0][0]']               \n",
            " rmalization)                                                                                     \n",
            "                                                                                                  \n",
            " add_2 (Add)                    (None, 6, 6, 728)    0           ['block4_pool[0][0]',            \n",
            "                                                                  'batch_normalization_2[0][0]']  \n",
            "                                                                                                  \n",
            " block5_sepconv1_act (Activatio  (None, 6, 6, 728)   0           ['add_2[0][0]']                  \n",
            " n)                                                                                               \n",
            "                                                                                                  \n",
            " block5_sepconv1 (SeparableConv  (None, 6, 6, 728)   536536      ['block5_sepconv1_act[0][0]']    \n",
            " 2D)                                                                                              \n",
            "                                                                                                  \n",
            " block5_sepconv1_bn (BatchNorma  (None, 6, 6, 728)   2912        ['block5_sepconv1[0][0]']        \n",
            " lization)                                                                                        \n",
            "                                                                                                  \n",
            " block5_sepconv2_act (Activatio  (None, 6, 6, 728)   0           ['block5_sepconv1_bn[0][0]']     \n",
            " n)                                                                                               \n",
            "                                                                                                  \n",
            " block5_sepconv2 (SeparableConv  (None, 6, 6, 728)   536536      ['block5_sepconv2_act[0][0]']    \n",
            " 2D)                                                                                              \n",
            "                                                                                                  \n",
            " block5_sepconv2_bn (BatchNorma  (None, 6, 6, 728)   2912        ['block5_sepconv2[0][0]']        \n",
            " lization)                                                                                        \n",
            "                                                                                                  \n",
            " block5_sepconv3_act (Activatio  (None, 6, 6, 728)   0           ['block5_sepconv2_bn[0][0]']     \n",
            " n)                                                                                               \n",
            "                                                                                                  \n",
            " block5_sepconv3 (SeparableConv  (None, 6, 6, 728)   536536      ['block5_sepconv3_act[0][0]']    \n",
            " 2D)                                                                                              \n",
            "                                                                                                  \n",
            " block5_sepconv3_bn (BatchNorma  (None, 6, 6, 728)   2912        ['block5_sepconv3[0][0]']        \n",
            " lization)                                                                                        \n",
            "                                                                                                  \n",
            " add_3 (Add)                    (None, 6, 6, 728)    0           ['block5_sepconv3_bn[0][0]',     \n",
            "                                                                  'add_2[0][0]']                  \n",
            "                                                                                                  \n",
            " block6_sepconv1_act (Activatio  (None, 6, 6, 728)   0           ['add_3[0][0]']                  \n",
            " n)                                                                                               \n",
            "                                                                                                  \n",
            " block6_sepconv1 (SeparableConv  (None, 6, 6, 728)   536536      ['block6_sepconv1_act[0][0]']    \n",
            " 2D)                                                                                              \n",
            "                                                                                                  \n",
            " block6_sepconv1_bn (BatchNorma  (None, 6, 6, 728)   2912        ['block6_sepconv1[0][0]']        \n",
            " lization)                                                                                        \n",
            "                                                                                                  \n",
            " block6_sepconv2_act (Activatio  (None, 6, 6, 728)   0           ['block6_sepconv1_bn[0][0]']     \n",
            " n)                                                                                               \n",
            "                                                                                                  \n",
            " block6_sepconv2 (SeparableConv  (None, 6, 6, 728)   536536      ['block6_sepconv2_act[0][0]']    \n",
            " 2D)                                                                                              \n",
            "                                                                                                  \n",
            " block6_sepconv2_bn (BatchNorma  (None, 6, 6, 728)   2912        ['block6_sepconv2[0][0]']        \n",
            " lization)                                                                                        \n",
            "                                                                                                  \n",
            " block6_sepconv3_act (Activatio  (None, 6, 6, 728)   0           ['block6_sepconv2_bn[0][0]']     \n",
            " n)                                                                                               \n",
            "                                                                                                  \n",
            " block6_sepconv3 (SeparableConv  (None, 6, 6, 728)   536536      ['block6_sepconv3_act[0][0]']    \n",
            " 2D)                                                                                              \n",
            "                                                                                                  \n",
            " block6_sepconv3_bn (BatchNorma  (None, 6, 6, 728)   2912        ['block6_sepconv3[0][0]']        \n",
            " lization)                                                                                        \n",
            "                                                                                                  \n",
            " add_4 (Add)                    (None, 6, 6, 728)    0           ['block6_sepconv3_bn[0][0]',     \n",
            "                                                                  'add_3[0][0]']                  \n",
            "                                                                                                  \n",
            " block7_sepconv1_act (Activatio  (None, 6, 6, 728)   0           ['add_4[0][0]']                  \n",
            " n)                                                                                               \n",
            "                                                                                                  \n",
            " block7_sepconv1 (SeparableConv  (None, 6, 6, 728)   536536      ['block7_sepconv1_act[0][0]']    \n",
            " 2D)                                                                                              \n",
            "                                                                                                  \n",
            " block7_sepconv1_bn (BatchNorma  (None, 6, 6, 728)   2912        ['block7_sepconv1[0][0]']        \n",
            " lization)                                                                                        \n",
            "                                                                                                  \n",
            " block7_sepconv2_act (Activatio  (None, 6, 6, 728)   0           ['block7_sepconv1_bn[0][0]']     \n",
            " n)                                                                                               \n",
            "                                                                                                  \n",
            " block7_sepconv2 (SeparableConv  (None, 6, 6, 728)   536536      ['block7_sepconv2_act[0][0]']    \n",
            " 2D)                                                                                              \n",
            "                                                                                                  \n",
            " block7_sepconv2_bn (BatchNorma  (None, 6, 6, 728)   2912        ['block7_sepconv2[0][0]']        \n",
            " lization)                                                                                        \n",
            "                                                                                                  \n",
            " block7_sepconv3_act (Activatio  (None, 6, 6, 728)   0           ['block7_sepconv2_bn[0][0]']     \n",
            " n)                                                                                               \n",
            "                                                                                                  \n",
            " block7_sepconv3 (SeparableConv  (None, 6, 6, 728)   536536      ['block7_sepconv3_act[0][0]']    \n",
            " 2D)                                                                                              \n",
            "                                                                                                  \n",
            " block7_sepconv3_bn (BatchNorma  (None, 6, 6, 728)   2912        ['block7_sepconv3[0][0]']        \n",
            " lization)                                                                                        \n",
            "                                                                                                  \n",
            " add_5 (Add)                    (None, 6, 6, 728)    0           ['block7_sepconv3_bn[0][0]',     \n",
            "                                                                  'add_4[0][0]']                  \n",
            "                                                                                                  \n",
            " block8_sepconv1_act (Activatio  (None, 6, 6, 728)   0           ['add_5[0][0]']                  \n",
            " n)                                                                                               \n",
            "                                                                                                  \n",
            " block8_sepconv1 (SeparableConv  (None, 6, 6, 728)   536536      ['block8_sepconv1_act[0][0]']    \n",
            " 2D)                                                                                              \n",
            "                                                                                                  \n",
            " block8_sepconv1_bn (BatchNorma  (None, 6, 6, 728)   2912        ['block8_sepconv1[0][0]']        \n",
            " lization)                                                                                        \n",
            "                                                                                                  \n",
            " block8_sepconv2_act (Activatio  (None, 6, 6, 728)   0           ['block8_sepconv1_bn[0][0]']     \n",
            " n)                                                                                               \n",
            "                                                                                                  \n",
            " block8_sepconv2 (SeparableConv  (None, 6, 6, 728)   536536      ['block8_sepconv2_act[0][0]']    \n",
            " 2D)                                                                                              \n",
            "                                                                                                  \n",
            " block8_sepconv2_bn (BatchNorma  (None, 6, 6, 728)   2912        ['block8_sepconv2[0][0]']        \n",
            " lization)                                                                                        \n",
            "                                                                                                  \n",
            " block8_sepconv3_act (Activatio  (None, 6, 6, 728)   0           ['block8_sepconv2_bn[0][0]']     \n",
            " n)                                                                                               \n",
            "                                                                                                  \n",
            " block8_sepconv3 (SeparableConv  (None, 6, 6, 728)   536536      ['block8_sepconv3_act[0][0]']    \n",
            " 2D)                                                                                              \n",
            "                                                                                                  \n",
            " block8_sepconv3_bn (BatchNorma  (None, 6, 6, 728)   2912        ['block8_sepconv3[0][0]']        \n",
            " lization)                                                                                        \n",
            "                                                                                                  \n",
            " add_6 (Add)                    (None, 6, 6, 728)    0           ['block8_sepconv3_bn[0][0]',     \n",
            "                                                                  'add_5[0][0]']                  \n",
            "                                                                                                  \n",
            " block9_sepconv1_act (Activatio  (None, 6, 6, 728)   0           ['add_6[0][0]']                  \n",
            " n)                                                                                               \n",
            "                                                                                                  \n",
            " block9_sepconv1 (SeparableConv  (None, 6, 6, 728)   536536      ['block9_sepconv1_act[0][0]']    \n",
            " 2D)                                                                                              \n",
            "                                                                                                  \n",
            " block9_sepconv1_bn (BatchNorma  (None, 6, 6, 728)   2912        ['block9_sepconv1[0][0]']        \n",
            " lization)                                                                                        \n",
            "                                                                                                  \n",
            " block9_sepconv2_act (Activatio  (None, 6, 6, 728)   0           ['block9_sepconv1_bn[0][0]']     \n",
            " n)                                                                                               \n",
            "                                                                                                  \n",
            " block9_sepconv2 (SeparableConv  (None, 6, 6, 728)   536536      ['block9_sepconv2_act[0][0]']    \n",
            " 2D)                                                                                              \n",
            "                                                                                                  \n",
            " block9_sepconv2_bn (BatchNorma  (None, 6, 6, 728)   2912        ['block9_sepconv2[0][0]']        \n",
            " lization)                                                                                        \n",
            "                                                                                                  \n",
            " block9_sepconv3_act (Activatio  (None, 6, 6, 728)   0           ['block9_sepconv2_bn[0][0]']     \n",
            " n)                                                                                               \n",
            "                                                                                                  \n",
            " block9_sepconv3 (SeparableConv  (None, 6, 6, 728)   536536      ['block9_sepconv3_act[0][0]']    \n",
            " 2D)                                                                                              \n",
            "                                                                                                  \n",
            " block9_sepconv3_bn (BatchNorma  (None, 6, 6, 728)   2912        ['block9_sepconv3[0][0]']        \n",
            " lization)                                                                                        \n",
            "                                                                                                  \n",
            " add_7 (Add)                    (None, 6, 6, 728)    0           ['block9_sepconv3_bn[0][0]',     \n",
            "                                                                  'add_6[0][0]']                  \n",
            "                                                                                                  \n",
            " block10_sepconv1_act (Activati  (None, 6, 6, 728)   0           ['add_7[0][0]']                  \n",
            " on)                                                                                              \n",
            "                                                                                                  \n",
            " block10_sepconv1 (SeparableCon  (None, 6, 6, 728)   536536      ['block10_sepconv1_act[0][0]']   \n",
            " v2D)                                                                                             \n",
            "                                                                                                  \n",
            " block10_sepconv1_bn (BatchNorm  (None, 6, 6, 728)   2912        ['block10_sepconv1[0][0]']       \n",
            " alization)                                                                                       \n",
            "                                                                                                  \n",
            " block10_sepconv2_act (Activati  (None, 6, 6, 728)   0           ['block10_sepconv1_bn[0][0]']    \n",
            " on)                                                                                              \n",
            "                                                                                                  \n",
            " block10_sepconv2 (SeparableCon  (None, 6, 6, 728)   536536      ['block10_sepconv2_act[0][0]']   \n",
            " v2D)                                                                                             \n",
            "                                                                                                  \n",
            " block10_sepconv2_bn (BatchNorm  (None, 6, 6, 728)   2912        ['block10_sepconv2[0][0]']       \n",
            " alization)                                                                                       \n",
            "                                                                                                  \n",
            " block10_sepconv3_act (Activati  (None, 6, 6, 728)   0           ['block10_sepconv2_bn[0][0]']    \n",
            " on)                                                                                              \n",
            "                                                                                                  \n",
            " block10_sepconv3 (SeparableCon  (None, 6, 6, 728)   536536      ['block10_sepconv3_act[0][0]']   \n",
            " v2D)                                                                                             \n",
            "                                                                                                  \n",
            " block10_sepconv3_bn (BatchNorm  (None, 6, 6, 728)   2912        ['block10_sepconv3[0][0]']       \n",
            " alization)                                                                                       \n",
            "                                                                                                  \n",
            " add_8 (Add)                    (None, 6, 6, 728)    0           ['block10_sepconv3_bn[0][0]',    \n",
            "                                                                  'add_7[0][0]']                  \n",
            "                                                                                                  \n",
            " block11_sepconv1_act (Activati  (None, 6, 6, 728)   0           ['add_8[0][0]']                  \n",
            " on)                                                                                              \n",
            "                                                                                                  \n",
            " block11_sepconv1 (SeparableCon  (None, 6, 6, 728)   536536      ['block11_sepconv1_act[0][0]']   \n",
            " v2D)                                                                                             \n",
            "                                                                                                  \n",
            " block11_sepconv1_bn (BatchNorm  (None, 6, 6, 728)   2912        ['block11_sepconv1[0][0]']       \n",
            " alization)                                                                                       \n",
            "                                                                                                  \n",
            " block11_sepconv2_act (Activati  (None, 6, 6, 728)   0           ['block11_sepconv1_bn[0][0]']    \n",
            " on)                                                                                              \n",
            "                                                                                                  \n",
            " block11_sepconv2 (SeparableCon  (None, 6, 6, 728)   536536      ['block11_sepconv2_act[0][0]']   \n",
            " v2D)                                                                                             \n",
            "                                                                                                  \n",
            " block11_sepconv2_bn (BatchNorm  (None, 6, 6, 728)   2912        ['block11_sepconv2[0][0]']       \n",
            " alization)                                                                                       \n",
            "                                                                                                  \n",
            " block11_sepconv3_act (Activati  (None, 6, 6, 728)   0           ['block11_sepconv2_bn[0][0]']    \n",
            " on)                                                                                              \n",
            "                                                                                                  \n",
            " block11_sepconv3 (SeparableCon  (None, 6, 6, 728)   536536      ['block11_sepconv3_act[0][0]']   \n",
            " v2D)                                                                                             \n",
            "                                                                                                  \n",
            " block11_sepconv3_bn (BatchNorm  (None, 6, 6, 728)   2912        ['block11_sepconv3[0][0]']       \n",
            " alization)                                                                                       \n",
            "                                                                                                  \n",
            " add_9 (Add)                    (None, 6, 6, 728)    0           ['block11_sepconv3_bn[0][0]',    \n",
            "                                                                  'add_8[0][0]']                  \n",
            "                                                                                                  \n",
            " block12_sepconv1_act (Activati  (None, 6, 6, 728)   0           ['add_9[0][0]']                  \n",
            " on)                                                                                              \n",
            "                                                                                                  \n",
            " block12_sepconv1 (SeparableCon  (None, 6, 6, 728)   536536      ['block12_sepconv1_act[0][0]']   \n",
            " v2D)                                                                                             \n",
            "                                                                                                  \n",
            " block12_sepconv1_bn (BatchNorm  (None, 6, 6, 728)   2912        ['block12_sepconv1[0][0]']       \n",
            " alization)                                                                                       \n",
            "                                                                                                  \n",
            " block12_sepconv2_act (Activati  (None, 6, 6, 728)   0           ['block12_sepconv1_bn[0][0]']    \n",
            " on)                                                                                              \n",
            "                                                                                                  \n",
            " block12_sepconv2 (SeparableCon  (None, 6, 6, 728)   536536      ['block12_sepconv2_act[0][0]']   \n",
            " v2D)                                                                                             \n",
            "                                                                                                  \n",
            " block12_sepconv2_bn (BatchNorm  (None, 6, 6, 728)   2912        ['block12_sepconv2[0][0]']       \n",
            " alization)                                                                                       \n",
            "                                                                                                  \n",
            " block12_sepconv3_act (Activati  (None, 6, 6, 728)   0           ['block12_sepconv2_bn[0][0]']    \n",
            " on)                                                                                              \n",
            "                                                                                                  \n",
            " block12_sepconv3 (SeparableCon  (None, 6, 6, 728)   536536      ['block12_sepconv3_act[0][0]']   \n",
            " v2D)                                                                                             \n",
            "                                                                                                  \n",
            " block12_sepconv3_bn (BatchNorm  (None, 6, 6, 728)   2912        ['block12_sepconv3[0][0]']       \n",
            " alization)                                                                                       \n",
            "                                                                                                  \n",
            " add_10 (Add)                   (None, 6, 6, 728)    0           ['block12_sepconv3_bn[0][0]',    \n",
            "                                                                  'add_9[0][0]']                  \n",
            "                                                                                                  \n",
            " block13_sepconv1_act (Activati  (None, 6, 6, 728)   0           ['add_10[0][0]']                 \n",
            " on)                                                                                              \n",
            "                                                                                                  \n",
            " block13_sepconv1 (SeparableCon  (None, 6, 6, 728)   536536      ['block13_sepconv1_act[0][0]']   \n",
            " v2D)                                                                                             \n",
            "                                                                                                  \n",
            " block13_sepconv1_bn (BatchNorm  (None, 6, 6, 728)   2912        ['block13_sepconv1[0][0]']       \n",
            " alization)                                                                                       \n",
            "                                                                                                  \n",
            " block13_sepconv2_act (Activati  (None, 6, 6, 728)   0           ['block13_sepconv1_bn[0][0]']    \n",
            " on)                                                                                              \n",
            "                                                                                                  \n",
            " block13_sepconv2 (SeparableCon  (None, 6, 6, 1024)  752024      ['block13_sepconv2_act[0][0]']   \n",
            " v2D)                                                                                             \n",
            "                                                                                                  \n",
            " block13_sepconv2_bn (BatchNorm  (None, 6, 6, 1024)  4096        ['block13_sepconv2[0][0]']       \n",
            " alization)                                                                                       \n",
            "                                                                                                  \n",
            " conv2d_3 (Conv2D)              (None, 3, 3, 1024)   745472      ['add_10[0][0]']                 \n",
            "                                                                                                  \n",
            " block13_pool (MaxPooling2D)    (None, 3, 3, 1024)   0           ['block13_sepconv2_bn[0][0]']    \n",
            "                                                                                                  \n",
            " batch_normalization_3 (BatchNo  (None, 3, 3, 1024)  4096        ['conv2d_3[0][0]']               \n",
            " rmalization)                                                                                     \n",
            "                                                                                                  \n",
            " add_11 (Add)                   (None, 3, 3, 1024)   0           ['block13_pool[0][0]',           \n",
            "                                                                  'batch_normalization_3[0][0]']  \n",
            "                                                                                                  \n",
            " block14_sepconv1 (SeparableCon  (None, 3, 3, 1536)  1582080     ['add_11[0][0]']                 \n",
            " v2D)                                                                                             \n",
            "                                                                                                  \n",
            " block14_sepconv1_bn (BatchNorm  (None, 3, 3, 1536)  6144        ['block14_sepconv1[0][0]']       \n",
            " alization)                                                                                       \n",
            "                                                                                                  \n",
            " block14_sepconv1_act (Activati  (None, 3, 3, 1536)  0           ['block14_sepconv1_bn[0][0]']    \n",
            " on)                                                                                              \n",
            "                                                                                                  \n",
            " block14_sepconv2 (SeparableCon  (None, 3, 3, 2048)  3159552     ['block14_sepconv1_act[0][0]']   \n",
            " v2D)                                                                                             \n",
            "                                                                                                  \n",
            " block14_sepconv2_bn (BatchNorm  (None, 3, 3, 2048)  8192        ['block14_sepconv2[0][0]']       \n",
            " alization)                                                                                       \n",
            "                                                                                                  \n",
            " block14_sepconv2_act (Activati  (None, 3, 3, 2048)  0           ['block14_sepconv2_bn[0][0]']    \n",
            " on)                                                                                              \n",
            "                                                                                                  \n",
            " global_max_pooling2d (GlobalMa  (None, 2048)        0           ['block14_sepconv2_act[0][0]']   \n",
            " xPooling2D)                                                                                      \n",
            "                                                                                                  \n",
            " flatten (Flatten)              (None, 2048)         0           ['global_max_pooling2d[0][0]']   \n",
            "                                                                                                  \n",
            " dense (Dense)                  (None, 512)          1049088     ['flatten[0][0]']                \n",
            "                                                                                                  \n",
            " dense_1 (Dense)                (None, 5)            2565        ['dense[0][0]']                  \n",
            "                                                                                                  \n",
            "==================================================================================================\n",
            "Total params: 21,913,133\n",
            "Trainable params: 1,051,653\n",
            "Non-trainable params: 20,861,480\n",
            "__________________________________________________________________________________________________\n"
          ]
        }
      ]
    },
    {
      "cell_type": "code",
      "source": [
        "\n",
        "\n",
        "base_model = tf.keras.applications.VGG16(include_top = False, # Leave out the last fully connected layer\n",
        "weights = 'imagenet',\n",
        "input_shape = (100, 100, 3), # Shape of our images\n",
        "pooling='max')\n",
        "\n",
        "\n",
        "\n",
        "for layer in base_model.layers:\n",
        "    layer.trainable = False\n",
        "\n",
        "\n",
        "# Flatten the output layer to 1 dimension\n",
        "x = Flatten()(base_model.output)\n",
        "\n",
        "# Add a fully connected layer with 512 hidden units and ReLU activation\n",
        "x = Dense(512, activation='relu')(x)\n",
        "\n",
        "# Add a dropout rate of 0.5\n",
        "#x = layers.Dropout(0.5)(x)\n",
        "\n",
        "# Add a final softmax layer for classification\n",
        "x = Dense(5, activation='softmax')(x)\n",
        "\n",
        "model = tf.keras.models.Model(base_model.input, x)\n",
        "model.summary()"
      ],
      "metadata": {
        "colab": {
          "base_uri": "https://localhost:8080/"
        },
        "id": "SwicjTk6mCDw",
        "outputId": "9eb17ab5-01ac-4588-b008-078cc4fa202c"
      },
      "execution_count": null,
      "outputs": [
        {
          "output_type": "stream",
          "name": "stdout",
          "text": [
            "Downloading data from https://storage.googleapis.com/tensorflow/keras-applications/vgg16/vgg16_weights_tf_dim_ordering_tf_kernels_notop.h5\n",
            "58892288/58889256 [==============================] - 0s 0us/step\n",
            "58900480/58889256 [==============================] - 0s 0us/step\n",
            "Model: \"model_1\"\n",
            "_________________________________________________________________\n",
            " Layer (type)                Output Shape              Param #   \n",
            "=================================================================\n",
            " input_2 (InputLayer)        [(None, 100, 100, 3)]     0         \n",
            "                                                                 \n",
            " block1_conv1 (Conv2D)       (None, 100, 100, 64)      1792      \n",
            "                                                                 \n",
            " block1_conv2 (Conv2D)       (None, 100, 100, 64)      36928     \n",
            "                                                                 \n",
            " block1_pool (MaxPooling2D)  (None, 50, 50, 64)        0         \n",
            "                                                                 \n",
            " block2_conv1 (Conv2D)       (None, 50, 50, 128)       73856     \n",
            "                                                                 \n",
            " block2_conv2 (Conv2D)       (None, 50, 50, 128)       147584    \n",
            "                                                                 \n",
            " block2_pool (MaxPooling2D)  (None, 25, 25, 128)       0         \n",
            "                                                                 \n",
            " block3_conv1 (Conv2D)       (None, 25, 25, 256)       295168    \n",
            "                                                                 \n",
            " block3_conv2 (Conv2D)       (None, 25, 25, 256)       590080    \n",
            "                                                                 \n",
            " block3_conv3 (Conv2D)       (None, 25, 25, 256)       590080    \n",
            "                                                                 \n",
            " block3_pool (MaxPooling2D)  (None, 12, 12, 256)       0         \n",
            "                                                                 \n",
            " block4_conv1 (Conv2D)       (None, 12, 12, 512)       1180160   \n",
            "                                                                 \n",
            " block4_conv2 (Conv2D)       (None, 12, 12, 512)       2359808   \n",
            "                                                                 \n",
            " block4_conv3 (Conv2D)       (None, 12, 12, 512)       2359808   \n",
            "                                                                 \n",
            " block4_pool (MaxPooling2D)  (None, 6, 6, 512)         0         \n",
            "                                                                 \n",
            " block5_conv1 (Conv2D)       (None, 6, 6, 512)         2359808   \n",
            "                                                                 \n",
            " block5_conv2 (Conv2D)       (None, 6, 6, 512)         2359808   \n",
            "                                                                 \n",
            " block5_conv3 (Conv2D)       (None, 6, 6, 512)         2359808   \n",
            "                                                                 \n",
            " block5_pool (MaxPooling2D)  (None, 3, 3, 512)         0         \n",
            "                                                                 \n",
            " global_max_pooling2d_1 (Glo  (None, 512)              0         \n",
            " balMaxPooling2D)                                                \n",
            "                                                                 \n",
            " flatten_1 (Flatten)         (None, 512)               0         \n",
            "                                                                 \n",
            " dense_2 (Dense)             (None, 512)               262656    \n",
            "                                                                 \n",
            " dense_3 (Dense)             (None, 5)                 2565      \n",
            "                                                                 \n",
            "=================================================================\n",
            "Total params: 14,979,909\n",
            "Trainable params: 265,221\n",
            "Non-trainable params: 14,714,688\n",
            "_________________________________________________________________\n"
          ]
        }
      ]
    },
    {
      "cell_type": "code",
      "source": [
        "def models(input_size = (100,100,3)):\n",
        "\n",
        "    inputs = tf.keras.layers.Input(input_size)\n",
        "    \n",
        "    base_model1 =     tf.keras.applications.Xception(\n",
        "        include_top = False,\n",
        "        weights     = 'imagenet',\n",
        "        pooling     = 'max'\n",
        "        \n",
        "        )(inputs)\n",
        "\n",
        "    base_model2 =     tf.keras.applications.VGG16(\n",
        "        include_top = False,\n",
        "        weights     = 'imagenet',\n",
        "        pooling     = 'max'\n",
        "        )(inputs)\n",
        "    \n",
        "\n",
        "\n",
        "    #base_model1=tf.keras.layers.AveragePooling2D(pool_size=(2, 2))(base_model1)\n",
        "    \n",
        "    base_model1=Flatten()(base_model1)\n",
        "\n",
        "    base_model1=Dense(256,activation='relu')(base_model1)\n",
        "    base_model1=(Dropout(0.2))(base_model1)\n",
        "    base_model1=(Dense(128,activation='relu'))(base_model1)\n",
        "    base_model1=(Dropout(0.3))(base_model1)\n",
        "    base_model1=(Dense(64,activation='relu'))(base_model1)\n",
        "\n",
        "    base_model2=Flatten()(base_model2)\n",
        "\n",
        "    base_model2=Dense(256,activation='relu')(base_model2)\n",
        "    base_model2=(Dropout(0.2))(base_model2)\n",
        "    base_model2=(Dense(128,activation='relu'))(base_model2)\n",
        "    base_model2=(Dropout(0.3))(base_model2)\n",
        "    base_model2=(Dense(64,activation='relu'))(base_model2)\n",
        "\n",
        "    model = tf.keras.layers.Concatenate()([base_model1,base_model2])\n",
        "\n",
        "    model=(Dense(128, activation='relu'))(model)\n",
        "    model=(Dense(64, activation='relu'))(model)\n",
        "    # final sigmoid layer for classification\n",
        "    model = Dense(2, activation='sigmoid')(model)\n",
        "    M = tf.keras.Model(inputs=inputs, outputs=model)\n",
        "    M.compile(\n",
        "        optimizer = 'adam', \n",
        "        loss = 'binary_crossentropy',               \n",
        "        metrics=['accuracy']\n",
        "    )\n",
        "  \n",
        "    return M\n",
        "\n",
        "model = models()"
      ],
      "metadata": {
        "id": "ZHOzGLiue4GN",
        "colab": {
          "base_uri": "https://localhost:8080/"
        },
        "outputId": "eb41e2f3-e4b4-4af7-bdd0-0aec92e30219"
      },
      "execution_count": null,
      "outputs": [
        {
          "output_type": "stream",
          "name": "stdout",
          "text": [
            "Downloading data from https://storage.googleapis.com/tensorflow/keras-applications/xception/xception_weights_tf_dim_ordering_tf_kernels_notop.h5\n",
            "83689472/83683744 [==============================] - 0s 0us/step\n",
            "83697664/83683744 [==============================] - 0s 0us/step\n",
            "Downloading data from https://storage.googleapis.com/tensorflow/keras-applications/vgg16/vgg16_weights_tf_dim_ordering_tf_kernels_notop.h5\n",
            "58892288/58889256 [==============================] - 0s 0us/step\n",
            "58900480/58889256 [==============================] - 0s 0us/step\n"
          ]
        }
      ]
    },
    {
      "cell_type": "code",
      "source": [
        "model.summary()"
      ],
      "metadata": {
        "colab": {
          "base_uri": "https://localhost:8080/"
        },
        "id": "PexQ3XgOKr7a",
        "outputId": "c96f58ec-1a1f-4f86-8c8d-3f3b62722263"
      },
      "execution_count": null,
      "outputs": [
        {
          "output_type": "stream",
          "name": "stdout",
          "text": [
            "Model: \"model\"\n",
            "__________________________________________________________________________________________________\n",
            " Layer (type)                   Output Shape         Param #     Connected to                     \n",
            "==================================================================================================\n",
            " input_1 (InputLayer)           [(None, 100, 100, 3  0           []                               \n",
            "                                )]                                                                \n",
            "                                                                                                  \n",
            " xception (Functional)          (None, 2048)         20861480    ['input_1[0][0]']                \n",
            "                                                                                                  \n",
            " vgg16 (Functional)             (None, 512)          14714688    ['input_1[0][0]']                \n",
            "                                                                                                  \n",
            " flatten (Flatten)              (None, 2048)         0           ['xception[0][0]']               \n",
            "                                                                                                  \n",
            " flatten_1 (Flatten)            (None, 512)          0           ['vgg16[0][0]']                  \n",
            "                                                                                                  \n",
            " dense (Dense)                  (None, 256)          524544      ['flatten[0][0]']                \n",
            "                                                                                                  \n",
            " dense_3 (Dense)                (None, 256)          131328      ['flatten_1[0][0]']              \n",
            "                                                                                                  \n",
            " dropout (Dropout)              (None, 256)          0           ['dense[0][0]']                  \n",
            "                                                                                                  \n",
            " dropout_2 (Dropout)            (None, 256)          0           ['dense_3[0][0]']                \n",
            "                                                                                                  \n",
            " dense_1 (Dense)                (None, 128)          32896       ['dropout[0][0]']                \n",
            "                                                                                                  \n",
            " dense_4 (Dense)                (None, 128)          32896       ['dropout_2[0][0]']              \n",
            "                                                                                                  \n",
            " dropout_1 (Dropout)            (None, 128)          0           ['dense_1[0][0]']                \n",
            "                                                                                                  \n",
            " dropout_3 (Dropout)            (None, 128)          0           ['dense_4[0][0]']                \n",
            "                                                                                                  \n",
            " dense_2 (Dense)                (None, 64)           8256        ['dropout_1[0][0]']              \n",
            "                                                                                                  \n",
            " dense_5 (Dense)                (None, 64)           8256        ['dropout_3[0][0]']              \n",
            "                                                                                                  \n",
            " concatenate (Concatenate)      (None, 128)          0           ['dense_2[0][0]',                \n",
            "                                                                  'dense_5[0][0]']                \n",
            "                                                                                                  \n",
            " dense_6 (Dense)                (None, 128)          16512       ['concatenate[0][0]']            \n",
            "                                                                                                  \n",
            " dense_7 (Dense)                (None, 64)           8256        ['dense_6[0][0]']                \n",
            "                                                                                                  \n",
            " dense_8 (Dense)                (None, 2)            130         ['dense_7[0][0]']                \n",
            "                                                                                                  \n",
            "==================================================================================================\n",
            "Total params: 36,339,242\n",
            "Trainable params: 36,284,714\n",
            "Non-trainable params: 54,528\n",
            "__________________________________________________________________________________________________\n"
          ]
        }
      ]
    },
    {
      "cell_type": "code",
      "source": [
        "#Change the link to checkpoint folder\n",
        "from keras.callbacks import CSVLogger\n",
        "checkpoint_path = \"/content/drive/MyDrive/Chest_xray/cp-{epoch:04d}.ckpt\"\n",
        "cp_callback = tf.keras.callbacks.ModelCheckpoint(\n",
        "    filepath=checkpoint_path, \n",
        "    verbose=1,\n",
        "    save_weights_only=True,\n",
        "    save_freq=1500)\n",
        "    \n",
        "\n",
        "csv_logger = CSVLogger(\"/content/drive/MyDrive/Chest_xray/model_history_log.csv\", append=True)"
      ],
      "metadata": {
        "id": "FxYwuFLhNmFB"
      },
      "execution_count": null,
      "outputs": []
    },
    {
      "cell_type": "code",
      "source": [
        "#Change the link to checkpoint folder\n",
        "#latest = tf.train.latest_checkpoint('/content/drive/MyDrive/chest_xray/ResNet101')\n",
        "#Run in case of interuption \n",
        "#model.load_weights(latest)\n",
        "#latest"
      ],
      "metadata": {
        "id": "BZUAcya5Ntrg"
      },
      "execution_count": null,
      "outputs": []
    },
    {
      "cell_type": "code",
      "source": [
        "history=model.fit(train_generator,\n",
        "                    epochs=100,\n",
        "                    validation_data=valid_generator,\n",
        "                    callbacks=[cp_callback,csv_logger]\n",
        "                    )"
      ],
      "metadata": {
        "colab": {
          "base_uri": "https://localhost:8080/"
        },
        "id": "H5LRd-ZBe4JT",
        "outputId": "6455f0bc-92ca-43c1-b800-58ecac2cb02d"
      },
      "execution_count": null,
      "outputs": [
        {
          "output_type": "stream",
          "name": "stderr",
          "text": [
            "/usr/local/lib/python3.7/dist-packages/keras_preprocessing/image/image_data_generator.py:720: UserWarning: This ImageDataGenerator specifies `featurewise_center`, but it hasn't been fit on any training data. Fit it first by calling `.fit(numpy_data)`.\n",
            "  warnings.warn('This ImageDataGenerator specifies '\n",
            "/usr/local/lib/python3.7/dist-packages/keras_preprocessing/image/image_data_generator.py:728: UserWarning: This ImageDataGenerator specifies `featurewise_std_normalization`, but it hasn't been fit on any training data. Fit it first by calling `.fit(numpy_data)`.\n",
            "  warnings.warn('This ImageDataGenerator specifies '\n"
          ]
        },
        {
          "output_type": "stream",
          "name": "stdout",
          "text": [
            "Epoch 1/100\n",
            "164/164 [==============================] - 1052s 6s/step - loss: 0.2977 - accuracy: 0.9048 - val_loss: 1.9004 - val_accuracy: 0.6875\n",
            "Epoch 2/100\n",
            "164/164 [==============================] - 77s 469ms/step - loss: 0.1189 - accuracy: 0.9600 - val_loss: 0.8287 - val_accuracy: 0.8125\n",
            "Epoch 3/100\n",
            "164/164 [==============================] - 77s 467ms/step - loss: 0.1039 - accuracy: 0.9651 - val_loss: 0.3053 - val_accuracy: 0.7500\n",
            "Epoch 4/100\n",
            "164/164 [==============================] - 77s 467ms/step - loss: 0.0996 - accuracy: 0.9665 - val_loss: 0.5760 - val_accuracy: 0.8125\n",
            "Epoch 5/100\n",
            "164/164 [==============================] - 78s 475ms/step - loss: 0.0825 - accuracy: 0.9728 - val_loss: 1.5111 - val_accuracy: 0.6250\n",
            "Epoch 6/100\n",
            "164/164 [==============================] - 77s 468ms/step - loss: 0.0984 - accuracy: 0.9659 - val_loss: 1.3216 - val_accuracy: 0.6250\n",
            "Epoch 7/100\n",
            "164/164 [==============================] - 77s 469ms/step - loss: 0.0799 - accuracy: 0.9722 - val_loss: 1.9069 - val_accuracy: 0.5000\n",
            "Epoch 8/100\n",
            "164/164 [==============================] - 78s 475ms/step - loss: 0.0782 - accuracy: 0.9782 - val_loss: 0.6695 - val_accuracy: 0.8750\n",
            "Epoch 9/100\n",
            "164/164 [==============================] - 77s 469ms/step - loss: 0.0600 - accuracy: 0.9778 - val_loss: 1.2591 - val_accuracy: 0.6250\n",
            "Epoch 10/100\n",
            " 23/164 [===>..........................] - ETA: 1:05 - loss: 0.0495 - accuracy: 0.9837\n",
            "Epoch 10: saving model to /content/drive/MyDrive/Chest_xray/cp-0010.ckpt\n",
            "164/164 [==============================] - 80s 489ms/step - loss: 0.0703 - accuracy: 0.9768 - val_loss: 0.8450 - val_accuracy: 0.5625\n",
            "Epoch 11/100\n",
            "164/164 [==============================] - 77s 467ms/step - loss: 0.0571 - accuracy: 0.9805 - val_loss: 1.0499 - val_accuracy: 0.6250\n",
            "Epoch 12/100\n",
            "164/164 [==============================] - 77s 467ms/step - loss: 0.0843 - accuracy: 0.9711 - val_loss: 0.6365 - val_accuracy: 0.8750\n",
            "Epoch 13/100\n",
            "164/164 [==============================] - 77s 469ms/step - loss: 0.0535 - accuracy: 0.9803 - val_loss: 0.3747 - val_accuracy: 0.8125\n",
            "Epoch 14/100\n",
            "164/164 [==============================] - 76s 465ms/step - loss: 0.0598 - accuracy: 0.9818 - val_loss: 2.6684 - val_accuracy: 0.5625\n",
            "Epoch 15/100\n",
            "164/164 [==============================] - 77s 467ms/step - loss: 0.0884 - accuracy: 0.9709 - val_loss: 0.5820 - val_accuracy: 0.8125\n",
            "Epoch 16/100\n",
            "164/164 [==============================] - 77s 467ms/step - loss: 0.0536 - accuracy: 0.9822 - val_loss: 0.3081 - val_accuracy: 0.8125\n",
            "Epoch 17/100\n",
            "164/164 [==============================] - 77s 470ms/step - loss: 0.0535 - accuracy: 0.9807 - val_loss: 0.5371 - val_accuracy: 0.8750\n",
            "Epoch 18/100\n",
            "164/164 [==============================] - 77s 468ms/step - loss: 0.0739 - accuracy: 0.9778 - val_loss: 0.2062 - val_accuracy: 0.9375\n",
            "Epoch 19/100\n",
            " 47/164 [=======>......................] - ETA: 54s - loss: 0.1458 - accuracy: 0.9707\n",
            "Epoch 19: saving model to /content/drive/MyDrive/Chest_xray/cp-0019.ckpt\n",
            "164/164 [==============================] - 80s 490ms/step - loss: 0.1249 - accuracy: 0.9653 - val_loss: 0.7491 - val_accuracy: 0.6250\n",
            "Epoch 20/100\n",
            "164/164 [==============================] - 77s 471ms/step - loss: 0.0512 - accuracy: 0.9812 - val_loss: 1.8354 - val_accuracy: 0.5625\n",
            "Epoch 21/100\n",
            "164/164 [==============================] - 77s 470ms/step - loss: 0.0623 - accuracy: 0.9814 - val_loss: 0.5269 - val_accuracy: 0.8125\n",
            "Epoch 22/100\n",
            "164/164 [==============================] - 77s 467ms/step - loss: 0.0412 - accuracy: 0.9866 - val_loss: 0.2955 - val_accuracy: 0.9375\n",
            "Epoch 23/100\n",
            "164/164 [==============================] - 77s 468ms/step - loss: 0.0429 - accuracy: 0.9864 - val_loss: 0.5955 - val_accuracy: 0.6875\n",
            "Epoch 24/100\n",
            "164/164 [==============================] - 77s 467ms/step - loss: 0.0359 - accuracy: 0.9883 - val_loss: 0.2675 - val_accuracy: 0.8750\n",
            "Epoch 25/100\n",
            "164/164 [==============================] - 78s 473ms/step - loss: 0.0592 - accuracy: 0.9812 - val_loss: 3.9621 - val_accuracy: 0.8125\n",
            "Epoch 26/100\n",
            "164/164 [==============================] - 77s 467ms/step - loss: 0.0428 - accuracy: 0.9853 - val_loss: 1.1380 - val_accuracy: 0.6875\n",
            "Epoch 27/100\n",
            "164/164 [==============================] - 77s 466ms/step - loss: 0.1276 - accuracy: 0.9542 - val_loss: 0.7504 - val_accuracy: 0.6875\n",
            "Epoch 28/100\n",
            " 71/164 [===========>..................] - ETA: 43s - loss: 0.0669 - accuracy: 0.9771\n",
            "Epoch 28: saving model to /content/drive/MyDrive/Chest_xray/cp-0028.ckpt\n",
            "164/164 [==============================] - 80s 485ms/step - loss: 0.0536 - accuracy: 0.9814 - val_loss: 0.8017 - val_accuracy: 0.7500\n",
            "Epoch 29/100\n",
            "164/164 [==============================] - 77s 468ms/step - loss: 0.0417 - accuracy: 0.9843 - val_loss: 0.3166 - val_accuracy: 0.7500\n",
            "Epoch 30/100\n",
            "164/164 [==============================] - 76s 464ms/step - loss: 0.0367 - accuracy: 0.9866 - val_loss: 0.6182 - val_accuracy: 0.8125\n",
            "Epoch 31/100\n",
            "164/164 [==============================] - 76s 464ms/step - loss: 0.0385 - accuracy: 0.9862 - val_loss: 1.6305 - val_accuracy: 0.6250\n",
            "Epoch 32/100\n",
            "164/164 [==============================] - 76s 466ms/step - loss: 0.0365 - accuracy: 0.9868 - val_loss: 0.2290 - val_accuracy: 0.8750\n",
            "Epoch 33/100\n",
            "164/164 [==============================] - 76s 464ms/step - loss: 0.0369 - accuracy: 0.9870 - val_loss: 0.2437 - val_accuracy: 0.8750\n",
            "Epoch 34/100\n",
            "164/164 [==============================] - 77s 466ms/step - loss: 0.0350 - accuracy: 0.9858 - val_loss: 0.6236 - val_accuracy: 0.8125\n",
            "Epoch 35/100\n",
            "164/164 [==============================] - 77s 466ms/step - loss: 0.0288 - accuracy: 0.9887 - val_loss: 0.2768 - val_accuracy: 0.8750\n",
            "Epoch 36/100\n",
            "164/164 [==============================] - 76s 465ms/step - loss: 0.0362 - accuracy: 0.9864 - val_loss: 1.0458 - val_accuracy: 0.6250\n",
            "Epoch 37/100\n",
            " 95/164 [================>.............] - ETA: 32s - loss: 0.0327 - accuracy: 0.9901\n",
            "Epoch 37: saving model to /content/drive/MyDrive/Chest_xray/cp-0037.ckpt\n",
            "164/164 [==============================] - 80s 484ms/step - loss: 0.0522 - accuracy: 0.9820 - val_loss: 0.6473 - val_accuracy: 0.8750\n",
            "Epoch 38/100\n",
            "164/164 [==============================] - 77s 466ms/step - loss: 0.0460 - accuracy: 0.9830 - val_loss: 0.5661 - val_accuracy: 0.8125\n",
            "Epoch 39/100\n",
            "164/164 [==============================] - 76s 465ms/step - loss: 0.0381 - accuracy: 0.9860 - val_loss: 0.2727 - val_accuracy: 0.8750\n",
            "Epoch 40/100\n",
            "164/164 [==============================] - 77s 466ms/step - loss: 0.0409 - accuracy: 0.9860 - val_loss: 0.0891 - val_accuracy: 1.0000\n",
            "Epoch 41/100\n",
            "164/164 [==============================] - 76s 465ms/step - loss: 0.0750 - accuracy: 0.9774 - val_loss: 0.0965 - val_accuracy: 1.0000\n",
            "Epoch 42/100\n",
            "164/164 [==============================] - 76s 465ms/step - loss: 0.0444 - accuracy: 0.9839 - val_loss: 0.2078 - val_accuracy: 0.9375\n",
            "Epoch 43/100\n",
            "164/164 [==============================] - 76s 465ms/step - loss: 0.0338 - accuracy: 0.9881 - val_loss: 0.4078 - val_accuracy: 0.8750\n",
            "Epoch 44/100\n",
            "164/164 [==============================] - 76s 464ms/step - loss: 0.0403 - accuracy: 0.9849 - val_loss: 0.3649 - val_accuracy: 0.7500\n",
            "Epoch 45/100\n",
            "164/164 [==============================] - 76s 463ms/step - loss: 0.0335 - accuracy: 0.9881 - val_loss: 0.1170 - val_accuracy: 0.9375\n",
            "Epoch 46/100\n",
            "119/164 [====================>.........] - ETA: 20s - loss: 0.0614 - accuracy: 0.9823\n",
            "Epoch 46: saving model to /content/drive/MyDrive/Chest_xray/cp-0046.ckpt\n",
            "164/164 [==============================] - 80s 484ms/step - loss: 0.0557 - accuracy: 0.9833 - val_loss: 0.7726 - val_accuracy: 0.6250\n",
            "Epoch 47/100\n",
            "164/164 [==============================] - 78s 476ms/step - loss: 0.0316 - accuracy: 0.9887 - val_loss: 0.6838 - val_accuracy: 0.6250\n",
            "Epoch 48/100\n",
            "164/164 [==============================] - 76s 464ms/step - loss: 0.0309 - accuracy: 0.9893 - val_loss: 0.4671 - val_accuracy: 0.7500\n",
            "Epoch 49/100\n",
            "164/164 [==============================] - 76s 464ms/step - loss: 0.0336 - accuracy: 0.9893 - val_loss: 0.6110 - val_accuracy: 0.7500\n",
            "Epoch 50/100\n",
            "164/164 [==============================] - 76s 465ms/step - loss: 0.0298 - accuracy: 0.9912 - val_loss: 0.7027 - val_accuracy: 0.8125\n",
            "Epoch 51/100\n",
            "164/164 [==============================] - 76s 465ms/step - loss: 0.0382 - accuracy: 0.9891 - val_loss: 1.5384 - val_accuracy: 0.6875\n",
            "Epoch 52/100\n",
            "164/164 [==============================] - 76s 465ms/step - loss: 0.0718 - accuracy: 0.9828 - val_loss: 0.0832 - val_accuracy: 1.0000\n",
            "Epoch 53/100\n",
            "164/164 [==============================] - 76s 465ms/step - loss: 0.0327 - accuracy: 0.9876 - val_loss: 0.1241 - val_accuracy: 0.9375\n",
            "Epoch 54/100\n",
            "164/164 [==============================] - 77s 466ms/step - loss: 0.0376 - accuracy: 0.9889 - val_loss: 0.4328 - val_accuracy: 0.7500\n",
            "Epoch 55/100\n",
            "143/164 [=========================>....] - ETA: 9s - loss: 0.0287 - accuracy: 0.9893 \n",
            "Epoch 55: saving model to /content/drive/MyDrive/Chest_xray/cp-0055.ckpt\n",
            "164/164 [==============================] - 78s 478ms/step - loss: 0.0295 - accuracy: 0.9897 - val_loss: 0.6873 - val_accuracy: 0.6250\n",
            "Epoch 56/100\n",
            "164/164 [==============================] - 78s 471ms/step - loss: 0.0311 - accuracy: 0.9881 - val_loss: 0.0519 - val_accuracy: 1.0000\n",
            "Epoch 57/100\n",
            "164/164 [==============================] - 78s 474ms/step - loss: 0.0275 - accuracy: 0.9897 - val_loss: 0.2604 - val_accuracy: 0.8125\n",
            "Epoch 58/100\n",
            "164/164 [==============================] - 76s 464ms/step - loss: 0.0226 - accuracy: 0.9931 - val_loss: 1.1774 - val_accuracy: 0.6250\n",
            "Epoch 59/100\n",
            "164/164 [==============================] - 80s 487ms/step - loss: 0.0725 - accuracy: 0.9751 - val_loss: 0.0748 - val_accuracy: 1.0000\n",
            "Epoch 60/100\n",
            "164/164 [==============================] - 77s 467ms/step - loss: 0.0308 - accuracy: 0.9893 - val_loss: 0.6228 - val_accuracy: 0.6875\n",
            "Epoch 61/100\n",
            "164/164 [==============================] - 78s 476ms/step - loss: 0.0524 - accuracy: 0.9853 - val_loss: 0.4311 - val_accuracy: 0.7500\n",
            "Epoch 62/100\n",
            "164/164 [==============================] - 77s 469ms/step - loss: 0.0228 - accuracy: 0.9900 - val_loss: 1.6904 - val_accuracy: 0.6875\n",
            "Epoch 63/100\n",
            "164/164 [==============================] - 78s 474ms/step - loss: 0.0324 - accuracy: 0.9897 - val_loss: 0.2372 - val_accuracy: 0.9375\n",
            "Epoch 64/100\n",
            "164/164 [==============================] - 78s 472ms/step - loss: 0.0424 - accuracy: 0.9860 - val_loss: 0.7351 - val_accuracy: 0.8125\n",
            "Epoch 65/100\n",
            "  3/164 [..............................] - ETA: 1:15 - loss: 0.0345 - accuracy: 0.9688\n",
            "Epoch 65: saving model to /content/drive/MyDrive/Chest_xray/cp-0065.ckpt\n",
            "164/164 [==============================] - 78s 477ms/step - loss: 0.0286 - accuracy: 0.9914 - val_loss: 0.4847 - val_accuracy: 0.7500\n",
            "Epoch 66/100\n",
            "164/164 [==============================] - 78s 473ms/step - loss: 0.0353 - accuracy: 0.9898 - val_loss: 0.3301 - val_accuracy: 0.9375\n",
            "Epoch 67/100\n",
            "164/164 [==============================] - 78s 473ms/step - loss: 0.0579 - accuracy: 0.9845 - val_loss: 1.1972 - val_accuracy: 0.6875\n",
            "Epoch 68/100\n",
            "164/164 [==============================] - 77s 466ms/step - loss: 0.0409 - accuracy: 0.9881 - val_loss: 0.4280 - val_accuracy: 0.8750\n",
            "Epoch 69/100\n",
            "164/164 [==============================] - 77s 471ms/step - loss: 0.0884 - accuracy: 0.9690 - val_loss: 0.7880 - val_accuracy: 0.6250\n",
            "Epoch 70/100\n",
            "164/164 [==============================] - 77s 468ms/step - loss: 0.0349 - accuracy: 0.9856 - val_loss: 0.2902 - val_accuracy: 0.8750\n",
            "Epoch 71/100\n",
            "164/164 [==============================] - 78s 472ms/step - loss: 0.0318 - accuracy: 0.9898 - val_loss: 0.7427 - val_accuracy: 0.8750\n",
            "Epoch 72/100\n",
            "164/164 [==============================] - 77s 466ms/step - loss: 0.0354 - accuracy: 0.9891 - val_loss: 0.8135 - val_accuracy: 0.8125\n",
            "Epoch 73/100\n",
            "164/164 [==============================] - 78s 474ms/step - loss: 0.0271 - accuracy: 0.9902 - val_loss: 0.5436 - val_accuracy: 0.7500\n",
            "Epoch 74/100\n",
            " 27/164 [===>..........................] - ETA: 1:03 - loss: 0.0190 - accuracy: 0.9919\n",
            "Epoch 74: saving model to /content/drive/MyDrive/Chest_xray/cp-0074.ckpt\n",
            "164/164 [==============================] - 80s 488ms/step - loss: 0.0198 - accuracy: 0.9925 - val_loss: 0.6260 - val_accuracy: 0.8750\n",
            "Epoch 75/100\n",
            "164/164 [==============================] - 79s 479ms/step - loss: 0.0188 - accuracy: 0.9941 - val_loss: 0.3274 - val_accuracy: 0.7500\n",
            "Epoch 76/100\n",
            "164/164 [==============================] - 78s 474ms/step - loss: 0.0240 - accuracy: 0.9921 - val_loss: 0.1531 - val_accuracy: 0.9375\n",
            "Epoch 77/100\n",
            "164/164 [==============================] - 77s 471ms/step - loss: 0.0182 - accuracy: 0.9939 - val_loss: 0.2385 - val_accuracy: 0.8125\n",
            "Epoch 78/100\n",
            "164/164 [==============================] - 79s 482ms/step - loss: 0.0467 - accuracy: 0.9854 - val_loss: 0.4700 - val_accuracy: 0.8750\n",
            "Epoch 79/100\n",
            "164/164 [==============================] - 77s 468ms/step - loss: 0.0295 - accuracy: 0.9893 - val_loss: 0.6107 - val_accuracy: 0.8750\n",
            "Epoch 80/100\n",
            "164/164 [==============================] - 77s 471ms/step - loss: 0.0266 - accuracy: 0.9904 - val_loss: 0.3837 - val_accuracy: 0.8750\n",
            "Epoch 81/100\n",
            "164/164 [==============================] - 76s 465ms/step - loss: 0.0270 - accuracy: 0.9898 - val_loss: 0.3990 - val_accuracy: 0.8125\n",
            "Epoch 82/100\n",
            "164/164 [==============================] - 79s 482ms/step - loss: 0.0193 - accuracy: 0.9929 - val_loss: 1.5205 - val_accuracy: 0.5625\n",
            "Epoch 83/100\n",
            " 51/164 [========>.....................] - ETA: 52s - loss: 0.0231 - accuracy: 0.9914\n",
            "Epoch 83: saving model to /content/drive/MyDrive/Chest_xray/cp-0083.ckpt\n",
            "164/164 [==============================] - 79s 479ms/step - loss: 0.0567 - accuracy: 0.9870 - val_loss: 0.3105 - val_accuracy: 0.8750\n",
            "Epoch 84/100\n",
            "164/164 [==============================] - 77s 471ms/step - loss: 0.0305 - accuracy: 0.9881 - val_loss: 0.7698 - val_accuracy: 0.8125\n",
            "Epoch 85/100\n",
            "164/164 [==============================] - 77s 466ms/step - loss: 0.0844 - accuracy: 0.9741 - val_loss: 0.1041 - val_accuracy: 1.0000\n",
            "Epoch 86/100\n",
            "164/164 [==============================] - 79s 480ms/step - loss: 0.0374 - accuracy: 0.9854 - val_loss: 0.5237 - val_accuracy: 0.6250\n",
            "Epoch 87/100\n",
            "164/164 [==============================] - 78s 475ms/step - loss: 0.0698 - accuracy: 0.9847 - val_loss: 1.5987 - val_accuracy: 0.6250\n",
            "Epoch 88/100\n",
            "164/164 [==============================] - 77s 467ms/step - loss: 0.0312 - accuracy: 0.9900 - val_loss: 0.6658 - val_accuracy: 0.8125\n",
            "Epoch 89/100\n",
            "164/164 [==============================] - 80s 486ms/step - loss: 0.0237 - accuracy: 0.9925 - val_loss: 0.1173 - val_accuracy: 0.8750\n",
            "Epoch 90/100\n",
            "164/164 [==============================] - 77s 466ms/step - loss: 0.0537 - accuracy: 0.9849 - val_loss: 0.3231 - val_accuracy: 0.8750\n",
            "Epoch 91/100\n",
            "164/164 [==============================] - 78s 473ms/step - loss: 0.0334 - accuracy: 0.9912 - val_loss: 0.1993 - val_accuracy: 0.8750\n",
            "Epoch 92/100\n",
            " 75/164 [============>.................] - ETA: 41s - loss: 0.0592 - accuracy: 0.9867\n",
            "Epoch 92: saving model to /content/drive/MyDrive/Chest_xray/cp-0092.ckpt\n",
            "164/164 [==============================] - 79s 480ms/step - loss: 0.0381 - accuracy: 0.9904 - val_loss: 0.5442 - val_accuracy: 0.9375\n",
            "Epoch 93/100\n",
            "164/164 [==============================] - 81s 493ms/step - loss: 0.0183 - accuracy: 0.9916 - val_loss: 0.1971 - val_accuracy: 0.8750\n",
            "Epoch 94/100\n",
            "164/164 [==============================] - 76s 465ms/step - loss: 0.0177 - accuracy: 0.9927 - val_loss: 0.7642 - val_accuracy: 0.6875\n",
            "Epoch 95/100\n",
            "164/164 [==============================] - 78s 474ms/step - loss: 0.0223 - accuracy: 0.9929 - val_loss: 0.1017 - val_accuracy: 1.0000\n",
            "Epoch 96/100\n",
            "164/164 [==============================] - 78s 473ms/step - loss: 0.0154 - accuracy: 0.9944 - val_loss: 0.3612 - val_accuracy: 0.7500\n",
            "Epoch 97/100\n",
            "164/164 [==============================] - 76s 465ms/step - loss: 0.0162 - accuracy: 0.9944 - val_loss: 0.4429 - val_accuracy: 0.8750\n",
            "Epoch 98/100\n",
            "164/164 [==============================] - 78s 476ms/step - loss: 0.0206 - accuracy: 0.9941 - val_loss: 0.0894 - val_accuracy: 0.9375\n",
            "Epoch 99/100\n",
            "164/164 [==============================] - 77s 467ms/step - loss: 0.0135 - accuracy: 0.9946 - val_loss: 0.4819 - val_accuracy: 0.9375\n",
            "Epoch 100/100\n",
            "164/164 [==============================] - 78s 474ms/step - loss: 0.0151 - accuracy: 0.9944 - val_loss: 0.6723 - val_accuracy: 0.8750\n"
          ]
        }
      ]
    },
    {
      "cell_type": "code",
      "source": [
        "model.save('/content/drive/MyDrive/Chest_xray/Latest.model')\n"
      ],
      "metadata": {
        "id": "JdZVSD9Ce4MA"
      },
      "execution_count": null,
      "outputs": []
    },
    {
      "cell_type": "code",
      "source": [
        "test_datagen = ImageDataGenerator(rescale=1./255)\n",
        "test_generator = test_datagen.flow_from_directory(\n",
        "        r'/content/drive/MyDrive/chest_xray/test',\n",
        "        target_size=(100,100),\n",
        "        color_mode='rgb',\n",
        "        batch_size=64,\n",
        "        class_mode='categorical',\n",
        "        shuffle=False\n",
        "        )\n",
        "\n",
        "test_imgs, test_labels = next(test_generator)"
      ],
      "metadata": {
        "colab": {
          "base_uri": "https://localhost:8080/"
        },
        "id": "n7k5jw76e4Oz",
        "outputId": "754450b6-2957-476b-a330-5581621590d3"
      },
      "execution_count": null,
      "outputs": [
        {
          "output_type": "stream",
          "name": "stdout",
          "text": [
            "Found 624 images belonging to 2 classes.\n"
          ]
        }
      ]
    },
    {
      "cell_type": "code",
      "source": [
        "#model1 = tf.keras.models.load_model('/content/drive/MyDrive/PP_Chest_xray/Final.model')\n",
        "predictions = model.predict(x=test_generator, verbose=0)\n",
        "np.round(predictions)"
      ],
      "metadata": {
        "colab": {
          "base_uri": "https://localhost:8080/"
        },
        "id": "4k8BNJ9Re4Rq",
        "outputId": "0f84a945-b33e-4f71-e066-705edd1c5000"
      },
      "execution_count": null,
      "outputs": [
        {
          "output_type": "execute_result",
          "data": {
            "text/plain": [
              "array([[1., 0.],\n",
              "       [1., 0.],\n",
              "       [1., 0.],\n",
              "       ...,\n",
              "       [0., 1.],\n",
              "       [0., 1.],\n",
              "       [0., 1.]], dtype=float32)"
            ]
          },
          "metadata": {},
          "execution_count": 13
        }
      ]
    },
    {
      "cell_type": "code",
      "source": [
        "import sklearn\n",
        "from sklearn.metrics import accuracy_score    \n",
        "from sklearn.metrics import confusion_matrix\n",
        "\n",
        "y_true=test_generator.classes\n",
        "y_pred=np.argmax(predictions, axis=-1)\n",
        "\n",
        "cm = confusion_matrix(y_true, y_pred)\n",
        "\n",
        "print('Prediction Accuracy:', \"{:.2f}\".format(100*accuracy_score(y_true, y_pred))+\"%\")"
      ],
      "metadata": {
        "colab": {
          "base_uri": "https://localhost:8080/"
        },
        "id": "VBLmj-hJe4UM",
        "outputId": "b4d8750d-55bd-4553-c8da-d0b35d3deab0"
      },
      "execution_count": null,
      "outputs": [
        {
          "output_type": "stream",
          "name": "stdout",
          "text": [
            "Prediction Accuracy: 91.67%\n"
          ]
        }
      ]
    },
    {
      "cell_type": "code",
      "source": [
        "import itertools\n",
        "\n",
        "def plot_confusion_matrix(cm, classes,\n",
        "                          normalize=False,\n",
        "                          cmap=plt.cm.Blues):\n",
        "    plt.imshow(cm, interpolation='nearest', cmap=cmap)\n",
        "    #plt.title(title)\n",
        "    plt.colorbar()\n",
        "    tick_marks = np.arange(len(classes))\n",
        "    plt.xticks(tick_marks, classes, rotation=45)\n",
        "    plt.yticks(tick_marks, classes)\n",
        "\n",
        "    if normalize:\n",
        "        cm = cm.astype('float') / cm.sum(axis=1)[:, np.newaxis]\n",
        "        print(\"Normalized confusion matrix\")\n",
        "    else:\n",
        "        print('Confusion matrix, without normalization')\n",
        "\n",
        "    print(cm)\n",
        "\n",
        "    thresh = cm.max() / 2.\n",
        "    for i, j in itertools.product(range(cm.shape[0]), range(cm.shape[1])):\n",
        "        plt.text(j, i, cm[i, j],\n",
        "            horizontalalignment=\"center\",\n",
        "            color=\"white\" if cm[i, j] > thresh else \"black\")\n",
        "\n",
        "    plt.tight_layout()\n",
        "    plt.ylabel('True label')\n",
        "    plt.xlabel('Predicted label')\n",
        "\n",
        "cm_plot_labels = ['Normal', 'Pneumonia']\n",
        "plot_confusion_matrix(cm=cm, classes=cm_plot_labels)\n",
        "abc='CM'\n",
        "plt.savefig(f'/mydrive/{abc}.png',bbox_inches=\"tight\",dpi=520)"
      ],
      "metadata": {
        "colab": {
          "base_uri": "https://localhost:8080/",
          "height": 365
        },
        "id": "3RvP6J0Ce4XQ",
        "outputId": "4438a5c5-4b7c-43ab-ebba-b6dba8ddc48e"
      },
      "execution_count": null,
      "outputs": [
        {
          "output_type": "stream",
          "name": "stdout",
          "text": [
            "Confusion matrix, without normalization\n",
            "[[194  40]\n",
            " [ 12 378]]\n"
          ]
        },
        {
          "output_type": "display_data",
          "data": {
            "text/plain": [
              "<Figure size 432x288 with 2 Axes>"
            ],
            "image/png": "[encoded data removed]"
          },
          "metadata": {
            "needs_background": "light"
          }
        }
      ]
    },
    {
      "cell_type": "code",
      "source": [
        "from sklearn.metrics import classification_report\n",
        "\n",
        "print(classification_report(y_true, y_pred))"
      ],
      "metadata": {
        "colab": {
          "base_uri": "https://localhost:8080/"
        },
        "id": "B98qHTtce4aV",
        "outputId": "ed647430-74a4-4922-a7bb-504faaab8327"
      },
      "execution_count": null,
      "outputs": [
        {
          "output_type": "stream",
          "name": "stdout",
          "text": [
            "              precision    recall  f1-score   support\n",
            "\n",
            "           0       0.94      0.83      0.88       234\n",
            "           1       0.90      0.97      0.94       390\n",
            "\n",
            "    accuracy                           0.92       624\n",
            "   macro avg       0.92      0.90      0.91       624\n",
            "weighted avg       0.92      0.92      0.92       624\n",
            "\n"
          ]
        }
      ]
    },
    {
      "cell_type": "code",
      "source": [
        "plt.plot(history.history['accuracy'])\n",
        "plt.plot(history.history['val_accuracy'])\n",
        "plt.ylabel('accuracy')\n",
        "plt.xlabel('epoch')\n",
        "plt.legend(['train', 'validation'],loc='upper left')\n",
        "plt.show()"
      ],
      "metadata": {
        "colab": {
          "base_uri": "https://localhost:8080/",
          "height": 279
        },
        "id": "xOyTSghQe4dG",
        "outputId": "37dd8c99-e618-48c6-a3de-831a6d5cb91c"
      },
      "execution_count": null,
      "outputs": [
        {
          "output_type": "display_data",
          "data": {
            "text/plain": [
              "<Figure size 432x288 with 1 Axes>"
            ],
            "image/png": "[encoded data removed]"
          },
          "metadata": {
            "needs_background": "light"
          }
        }
      ]
    },
    {
      "cell_type": "code",
      "source": [
        "abc='Loss vs Epoch Graph_350'\n",
        "plt.plot(history.history['loss'])\n",
        "plt.plot(history.history['val_loss'])\n",
        "plt.ylabel('loss')\n",
        "plt.xlabel('epoch')\n",
        "plt.legend(['train', 'validation'],loc='upper right')\n",
        "plt.savefig(f'/mydrive{abc}.png',bbox_inches=\"tight\",dpi=520)\n",
        "plt.show()"
      ],
      "metadata": {
        "colab": {
          "base_uri": "https://localhost:8080/",
          "height": 279
        },
        "id": "HHtJFYile4fw",
        "outputId": "39236566-8f95-40f7-d931-4bb99c7333b2"
      },
      "execution_count": null,
      "outputs": [
        {
          "output_type": "display_data",
          "data": {
            "text/plain": [
              "<Figure size 432x288 with 1 Axes>"
            ],
            "image/png": "[encoded data removed]"
          },
          "metadata": {
            "needs_background": "light"
          }
        }
      ]
    },
    {
      "cell_type": "code",
      "source": [
        "!pip install scikit-plot"
      ],
      "metadata": {
        "colab": {
          "base_uri": "https://localhost:8080/"
        },
        "id": "nGOELmEse4jX",
        "outputId": "ba793953-f32b-484c-bbae-deb3327c7877"
      },
      "execution_count": null,
      "outputs": [
        {
          "output_type": "stream",
          "name": "stdout",
          "text": [
            "Looking in indexes: https://pypi.org/simple, https://us-python.pkg.dev/colab-wheels/public/simple/\n",
            "Collecting scikit-plot\n",
            "  Downloading scikit_plot-0.3.7-py3-none-any.whl (33 kB)\n",
            "Requirement already satisfied: scikit-learn>=0.18 in /usr/local/lib/python3.7/dist-packages (from scikit-plot) (1.0.2)\n",
            "Requirement already satisfied: joblib>=0.10 in /usr/local/lib/python3.7/dist-packages (from scikit-plot) (1.1.0)\n",
            "Requirement already satisfied: scipy>=0.9 in /usr/local/lib/python3.7/dist-packages (from scikit-plot) (1.7.3)\n",
            "Requirement already satisfied: matplotlib>=1.4.0 in /usr/local/lib/python3.7/dist-packages (from scikit-plot) (3.2.2)\n",
            "Requirement already satisfied: numpy>=1.11 in /usr/local/lib/python3.7/dist-packages (from matplotlib>=1.4.0->scikit-plot) (1.21.6)\n",
            "Requirement already satisfied: cycler>=0.10 in /usr/local/lib/python3.7/dist-packages (from matplotlib>=1.4.0->scikit-plot) (0.11.0)\n",
            "Requirement already satisfied: pyparsing!=2.0.4,!=2.1.2,!=2.1.6,>=2.0.1 in /usr/local/lib/python3.7/dist-packages (from matplotlib>=1.4.0->scikit-plot) (3.0.9)\n",
            "Requirement already satisfied: python-dateutil>=2.1 in /usr/local/lib/python3.7/dist-packages (from matplotlib>=1.4.0->scikit-plot) (2.8.2)\n",
            "Requirement already satisfied: kiwisolver>=1.0.1 in /usr/local/lib/python3.7/dist-packages (from matplotlib>=1.4.0->scikit-plot) (1.4.4)\n",
            "Requirement already satisfied: typing-extensions in /usr/local/lib/python3.7/dist-packages (from kiwisolver>=1.0.1->matplotlib>=1.4.0->scikit-plot) (4.1.1)\n",
            "Requirement already satisfied: six>=1.5 in /usr/local/lib/python3.7/dist-packages (from python-dateutil>=2.1->matplotlib>=1.4.0->scikit-plot) (1.15.0)\n",
            "Requirement already satisfied: threadpoolctl>=2.0.0 in /usr/local/lib/python3.7/dist-packages (from scikit-learn>=0.18->scikit-plot) (3.1.0)\n",
            "Installing collected packages: scikit-plot\n",
            "Successfully installed scikit-plot-0.3.7\n"
          ]
        }
      ]
    },
    {
      "cell_type": "code",
      "source": [
        "import scikitplot as skplt\n",
        "skplt.metrics.plot_roc(\n",
        "    y_true,\n",
        "    predictions,\n",
        "    figsize=(8,8))\n",
        "abc='ROC Curve Normal_250'\n",
        "#plt.savefig(\"/content/drive/MyDrive/Test/\"+data[i],bbox_inches='tight', pad_inches=0)"
      ],
      "metadata": {
        "colab": {
          "base_uri": "https://localhost:8080/",
          "height": 513
        },
        "id": "4PnUPIGzfVd_",
        "outputId": "c3de9310-5a08-4b0b-b37a-186af1b4ca85"
      },
      "execution_count": null,
      "outputs": [
        {
          "output_type": "display_data",
          "data": {
            "text/plain": [
              "<Figure size 576x576 with 1 Axes>"
            ],
            "image/png": "[encoded data removed]"
          },
          "metadata": {
            "needs_background": "light"
          }
        }
      ]
    },
    {
      "cell_type": "code",
      "source": [
        "import scikitplot as skplt\n",
        "skplt.metrics.plot_precision_recall(\n",
        "    y_true,\n",
        "    predictions,\n",
        "    figsize=(8,8))\n",
        "abc='AOC Curve Normal_250'\n",
        "#plt.savefig(\"/content/drive/MyDrive/Test/\"+data[i],bbox_inches='tight', pad_inches=0)"
      ],
      "metadata": {
        "id": "06oWPeE1MJxd",
        "colab": {
          "base_uri": "https://localhost:8080/",
          "height": 513
        },
        "outputId": "f99fb303-5f79-46f3-ce2b-72abd98e5675"
      },
      "execution_count": null,
      "outputs": [
        {
          "output_type": "display_data",
          "data": {
            "text/plain": [
              "<Figure size 576x576 with 1 Axes>"
            ],
            "image/png": "[encoded data removed]"
          },
          "metadata": {
            "needs_background": "light"
          }
        }
      ]
    },
    {
      "cell_type": "code",
      "source": [],
      "metadata": {
        "id": "Pu5q8Iz225xg"
      },
      "execution_count": null,
      "outputs": []
    }
  ]
}